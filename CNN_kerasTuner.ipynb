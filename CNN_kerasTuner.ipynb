{
 "cells": [
  {
   "cell_type": "code",
   "execution_count": 1,
   "metadata": {},
   "outputs": [
    {
     "name": "stderr",
     "output_type": "stream",
     "text": [
      "Using TensorFlow backend.\n"
     ]
    }
   ],
   "source": [
    "import tensorflow as tf\n",
    "from tensorflow import keras\n",
    "from keras.preprocessing.image import ImageDataGenerator\n",
    "import numpy as np\n",
    "from keras.utils import np_utils"
   ]
  },
  {
   "cell_type": "code",
   "execution_count": 2,
   "metadata": {},
   "outputs": [],
   "source": [
    "train=ImageDataGenerator(rescale=1/255)\n",
    "validation=ImageDataGenerator(rescale=1/255)"
   ]
  },
  {
   "cell_type": "code",
   "execution_count": 3,
   "metadata": {},
   "outputs": [
    {
     "name": "stdout",
     "output_type": "stream",
     "text": [
      "Found 568 images belonging to 4 classes.\n"
     ]
    },
    {
     "data": {
      "text/plain": [
       "{'acne': 0, 'eczema': 1, 'psoriasis': 2, 'rosacea': 3}"
      ]
     },
     "execution_count": 3,
     "metadata": {},
     "output_type": "execute_result"
    }
   ],
   "source": [
    "train_dataset=train.flow_from_directory('G:/Deep Learning/dermnet_Dataset/train_dataset', \n",
    "        target_size=(150, 150), \n",
    "        batch_size=20,\n",
    "        class_mode='categorical') \n",
    "train_dataset.class_indices"
   ]
  },
  {
   "cell_type": "code",
   "execution_count": 5,
   "metadata": {},
   "outputs": [
    {
     "name": "stdout",
     "output_type": "stream",
     "text": [
      "Found 157 images belonging to 4 classes.\n"
     ]
    }
   ],
   "source": [
    "validation_dataset=validation.flow_from_directory(\n",
    "      'G:/Deep Learning/dermnet_Dataset/validation_dataset',\n",
    "        target_size=(150, 150),\n",
    "        batch_size=20,\n",
    "        class_mode='categorical')"
   ]
  },
  {
   "cell_type": "code",
   "execution_count": 6,
   "metadata": {},
   "outputs": [],
   "source": [
    "X_train, y_train = next(train_dataset)\n",
    "X_test, y_test = next(validation_dataset)"
   ]
  },
  {
   "cell_type": "code",
   "execution_count": 7,
   "metadata": {},
   "outputs": [
    {
     "data": {
      "text/plain": [
       "(20, 4)"
      ]
     },
     "execution_count": 7,
     "metadata": {},
     "output_type": "execute_result"
    }
   ],
   "source": [
    "\n",
    "y_train.shape"
   ]
  },
  {
   "cell_type": "code",
   "execution_count": 8,
   "metadata": {},
   "outputs": [],
   "source": [
    "X_train=X_train.reshape(len(X_train),150,150,3)\n",
    "X_test=X_test.reshape(len(X_test),150,150,3)"
   ]
  },
  {
   "cell_type": "code",
   "execution_count": 10,
   "metadata": {},
   "outputs": [],
   "source": [
    "def build_model(hp):  \n",
    "  model = keras.Sequential([\n",
    "    keras.layers.Conv2D(\n",
    "        filters=hp.Int('conv_1_filter', min_value=32, max_value=128, step=16),\n",
    "        kernel_size=hp.Choice('conv_1_kernel', values = [3,5]),\n",
    "        activation='relu',\n",
    "        input_shape=(150,150,3)\n",
    "    ),\n",
    "    keras.layers.Conv2D(\n",
    "        filters=hp.Int('conv_2_filter', min_value=32, max_value=64, step=16),\n",
    "        kernel_size=hp.Choice('conv_2_kernel', values = [3,5]),\n",
    "        activation='relu'\n",
    "    ),\n",
    "      keras.layers.Conv2D(\n",
    "        filters=hp.Int('conv_3_filter', min_value=32, max_value=64, step=16),\n",
    "        kernel_size=hp.Choice('conv_3_kernel', values = [3,5]),\n",
    "        activation='relu'\n",
    "      ),\n",
    "    keras.layers.Flatten(),\n",
    "    keras.layers.Dense(\n",
    "        units=hp.Int('dense_1_units', min_value=32, max_value=128, step=16),\n",
    "        activation='relu'\n",
    "    ),\n",
    "    keras.layers.Dense(\n",
    "        units=hp.Int('dense_2_units', min_value=32, max_value=128, step=16),\n",
    "        activation='relu'\n",
    "    ),\n",
    "    keras.layers.Dense(4, activation='softmax')\n",
    "  ])\n",
    "  \n",
    "  model.compile(optimizer=keras.optimizers.Adam(hp.Choice('learning_rate', values=[1e-2, 1e-3])),\n",
    "             loss='categorical_crossentropy',\n",
    "              metrics=['accuracy'])\n",
    "  \n",
    "  return model"
   ]
  },
  {
   "cell_type": "code",
   "execution_count": 11,
   "metadata": {},
   "outputs": [],
   "source": [
    "from kerastuner import RandomSearch\n",
    "from kerastuner.engine.hyperparameters import HyperParameters"
   ]
  },
  {
   "cell_type": "code",
   "execution_count": 17,
   "metadata": {},
   "outputs": [],
   "source": [
    "tuner_search=RandomSearch(build_model,\n",
    "                          objective='val_accuracy',\n",
    "                          max_trials=3,directory='disease5',project_name=\"Skin disease\")"
   ]
  },
  {
   "cell_type": "code",
   "execution_count": null,
   "metadata": {},
   "outputs": [
    {
     "name": "stdout",
     "output_type": "stream",
     "text": [
      "Train on 20 samples, validate on 20 samples\n",
      "Epoch 1/100\n",
      "20/20 [==============================] - 53s 3s/sample - loss: 1.3609 - accuracy: 0.4000 - val_loss: 6381.5557 - val_accuracy: 0.4000\n",
      "Epoch 2/100\n",
      "20/20 [==============================] - 7s 355ms/sample - loss: 4833.0552 - accuracy: 0.4000 - val_loss: 331.9403 - val_accuracy: 0.2500\n",
      "Epoch 3/100\n",
      "20/20 [==============================] - 5s 267ms/sample - loss: 246.1407 - accuracy: 0.3500 - val_loss: 16.3831 - val_accuracy: 0.4000\n",
      "Epoch 4/100\n",
      "20/20 [==============================] - 5s 262ms/sample - loss: 16.4717 - accuracy: 0.4000 - val_loss: 4.0790 - val_accuracy: 0.2500\n",
      "Epoch 5/100\n",
      "20/20 [==============================] - 5s 260ms/sample - loss: 2.8937 - accuracy: 0.3500 - val_loss: 67.8514 - val_accuracy: 0.2500\n",
      "Epoch 6/100\n",
      "20/20 [==============================] - 5s 255ms/sample - loss: 50.6981 - accuracy: 0.3500 - val_loss: 1.3567 - val_accuracy: 0.3000\n",
      "Epoch 7/100\n",
      "20/20 [==============================] - 5s 255ms/sample - loss: 1.3550 - accuracy: 0.2500 - val_loss: 1.3528 - val_accuracy: 0.3000\n",
      "Epoch 8/100\n",
      "20/20 [==============================] - 5s 258ms/sample - loss: 1.3508 - accuracy: 0.2500 - val_loss: 1.3569 - val_accuracy: 0.3000\n",
      "Epoch 9/100\n",
      "20/20 [==============================] - 5s 252ms/sample - loss: 1.3452 - accuracy: 0.2500 - val_loss: 1.3374 - val_accuracy: 0.3000\n",
      "Epoch 10/100\n",
      "20/20 [==============================] - 5s 255ms/sample - loss: 1.3347 - accuracy: 0.2500 - val_loss: 1.3281 - val_accuracy: 0.3000\n",
      "Epoch 11/100\n",
      "20/20 [==============================] - 5s 260ms/sample - loss: 1.3240 - accuracy: 0.2500 - val_loss: 1.3188 - val_accuracy: 0.3000\n",
      "Epoch 12/100\n",
      "20/20 [==============================] - 5s 263ms/sample - loss: 1.3120 - accuracy: 0.2500 - val_loss: 1.3088 - val_accuracy: 0.3000\n",
      "Epoch 13/100\n",
      "20/20 [==============================] - 5s 264ms/sample - loss: 1.2980 - accuracy: 0.2500 - val_loss: 1.2983 - val_accuracy: 0.3000\n",
      "Epoch 14/100\n",
      "20/20 [==============================] - 6s 281ms/sample - loss: 1.2825 - accuracy: 0.2500 - val_loss: 1.2878 - val_accuracy: 0.3000\n",
      "Epoch 15/100\n",
      "20/20 [==============================] - 5s 263ms/sample - loss: 1.2658 - accuracy: 0.2500 - val_loss: 1.2773 - val_accuracy: 0.3000\n",
      "Epoch 16/100\n",
      "20/20 [==============================] - 5s 257ms/sample - loss: 1.2481 - accuracy: 0.2500 - val_loss: 1.2673 - val_accuracy: 0.3000\n",
      "Epoch 17/100\n",
      "20/20 [==============================] - 5s 259ms/sample - loss: 1.2297 - accuracy: 0.2500 - val_loss: 1.2579 - val_accuracy: 0.3000\n",
      "Epoch 18/100\n",
      "20/20 [==============================] - 5s 268ms/sample - loss: 1.2104 - accuracy: 0.2500 - val_loss: 1.2494 - val_accuracy: 0.3000\n",
      "Epoch 19/100\n",
      "20/20 [==============================] - 5s 260ms/sample - loss: 1.1905 - accuracy: 0.2500 - val_loss: 1.2425 - val_accuracy: 0.3000\n",
      "Epoch 20/100\n",
      "20/20 [==============================] - 5s 260ms/sample - loss: 1.1704 - accuracy: 0.2500 - val_loss: 1.2379 - val_accuracy: 0.4000\n",
      "Epoch 21/100\n",
      "20/20 [==============================] - 5s 261ms/sample - loss: 1.1510 - accuracy: 0.4000 - val_loss: 1.2366 - val_accuracy: 0.4000\n",
      "Epoch 22/100\n",
      "20/20 [==============================] - 5s 265ms/sample - loss: 1.1331 - accuracy: 0.4000 - val_loss: 1.2399 - val_accuracy: 0.4000\n",
      "Epoch 23/100\n",
      "20/20 [==============================] - 5s 259ms/sample - loss: 1.1179 - accuracy: 0.4000 - val_loss: 1.2490 - val_accuracy: 0.4000\n",
      "Epoch 24/100\n",
      "20/20 [==============================] - 5s 263ms/sample - loss: 1.1068 - accuracy: 0.4000 - val_loss: 1.2645 - val_accuracy: 0.4000\n",
      "Epoch 25/100\n",
      "20/20 [==============================] - 5s 261ms/sample - loss: 1.1006 - accuracy: 0.4000 - val_loss: 1.2854 - val_accuracy: 0.4000\n",
      "Epoch 26/100\n",
      "20/20 [==============================] - 5s 258ms/sample - loss: 1.0990 - accuracy: 0.4000 - val_loss: 1.3084 - val_accuracy: 0.4000\n",
      "Epoch 27/100\n",
      "20/20 [==============================] - 5s 254ms/sample - loss: 1.1002 - accuracy: 0.4000 - val_loss: 1.3293 - val_accuracy: 0.4000\n",
      "Epoch 28/100\n",
      "20/20 [==============================] - 5s 257ms/sample - loss: 1.1014 - accuracy: 0.4000 - val_loss: 1.3453 - val_accuracy: 0.4000\n",
      "Epoch 29/100\n",
      "20/20 [==============================] - 5s 258ms/sample - loss: 1.1005 - accuracy: 0.4000 - val_loss: 1.3555 - val_accuracy: 0.4000\n",
      "Epoch 30/100\n",
      "20/20 [==============================] - 5s 251ms/sample - loss: 1.0973 - accuracy: 0.4000 - val_loss: 1.3610 - val_accuracy: 0.4000\n",
      "Epoch 31/100\n",
      "20/20 [==============================] - 5s 254ms/sample - loss: 1.0924 - accuracy: 0.4000 - val_loss: 1.3638 - val_accuracy: 0.4000\n",
      "Epoch 32/100\n",
      "20/20 [==============================] - 5s 258ms/sample - loss: 1.0875 - accuracy: 0.4000 - val_loss: 1.3660 - val_accuracy: 0.4000\n",
      "Epoch 33/100\n",
      "20/20 [==============================] - 5s 260ms/sample - loss: 1.0840 - accuracy: 0.4000 - val_loss: 1.3691 - val_accuracy: 0.4000\n",
      "Epoch 34/100\n",
      "20/20 [==============================] - 5s 263ms/sample - loss: 1.0826 - accuracy: 0.4000 - val_loss: 1.3740 - val_accuracy: 0.4000\n",
      "Epoch 35/100\n",
      "20/20 [==============================] - 6s 293ms/sample - loss: 1.0834 - accuracy: 0.4000 - val_loss: 1.3802 - val_accuracy: 0.4000\n",
      "Epoch 36/100\n",
      "20/20 [==============================] - 6s 303ms/sample - loss: 1.0853 - accuracy: 0.4000 - val_loss: 1.3872 - val_accuracy: 0.4000\n",
      "Epoch 37/100\n",
      "20/20 [==============================] - 6s 278ms/sample - loss: 1.0870 - accuracy: 0.4000 - val_loss: 1.3940 - val_accuracy: 0.4000\n",
      "Epoch 38/100\n",
      "20/20 [==============================] - 6s 275ms/sample - loss: 1.0874 - accuracy: 0.4000 - val_loss: 1.4008 - val_accuracy: 0.4000\n",
      "Epoch 39/100\n",
      "20/20 [==============================] - 5s 255ms/sample - loss: 1.0864 - accuracy: 0.4000 - val_loss: 1.4079 - val_accuracy: 0.4000\n",
      "Epoch 40/100\n",
      "20/20 [==============================] - 5s 263ms/sample - loss: 1.0845 - accuracy: 0.4000 - val_loss: 1.4162 - val_accuracy: 0.4000\n",
      "Epoch 41/100\n",
      "20/20 [==============================] - 6s 280ms/sample - loss: 1.0827 - accuracy: 0.4000 - val_loss: 1.4259 - val_accuracy: 0.4000\n",
      "Epoch 42/100\n",
      "20/20 [==============================] - 6s 284ms/sample - loss: 1.0816 - accuracy: 0.4000 - val_loss: 1.4368 - val_accuracy: 0.4000\n",
      "Epoch 43/100\n",
      "20/20 [==============================] - 5s 256ms/sample - loss: 1.0815 - accuracy: 0.4000 - val_loss: 1.4478 - val_accuracy: 0.4000\n",
      "Epoch 44/100\n",
      "20/20 [==============================] - 5s 260ms/sample - loss: 1.0821 - accuracy: 0.4000 - val_loss: 1.4578 - val_accuracy: 0.4000\n",
      "Epoch 45/100\n",
      "20/20 [==============================] - 5s 265ms/sample - loss: 1.0829 - accuracy: 0.4000 - val_loss: 1.4656 - val_accuracy: 0.4000\n",
      "Epoch 46/100\n",
      "20/20 [==============================] - 5s 260ms/sample - loss: 1.0832 - accuracy: 0.4000 - val_loss: 1.4708 - val_accuracy: 0.4000\n",
      "Epoch 47/100\n",
      "20/20 [==============================] - 5s 259ms/sample - loss: 1.0831 - accuracy: 0.4000 - val_loss: 1.4733 - val_accuracy: 0.4000\n",
      "Epoch 48/100\n",
      "20/20 [==============================] - 5s 265ms/sample - loss: 1.0825 - accuracy: 0.4000 - val_loss: 1.4738 - val_accuracy: 0.4000\n",
      "Epoch 49/100\n",
      "20/20 [==============================] - 5s 258ms/sample - loss: 1.0818 - accuracy: 0.4000 - val_loss: 1.4730 - val_accuracy: 0.4000\n",
      "Epoch 50/100\n",
      "20/20 [==============================] - 5s 273ms/sample - loss: 1.0813 - accuracy: 0.4000 - val_loss: 1.4717 - val_accuracy: 0.4000\n",
      "Epoch 51/100\n",
      "20/20 [==============================] - 5s 264ms/sample - loss: 1.0811 - accuracy: 0.4000 - val_loss: 1.4707 - val_accuracy: 0.4000\n",
      "Epoch 52/100\n",
      "20/20 [==============================] - 5s 261ms/sample - loss: 1.0812 - accuracy: 0.4000 - val_loss: 1.4702 - val_accuracy: 0.4000\n",
      "Epoch 53/100\n",
      "20/20 [==============================] - 5s 259ms/sample - loss: 1.0815 - accuracy: 0.4000 - val_loss: 1.4705 - val_accuracy: 0.4000\n",
      "Epoch 54/100\n",
      "20/20 [==============================] - 5s 262ms/sample - loss: 1.0817 - accuracy: 0.4000 - val_loss: 1.4717 - val_accuracy: 0.4000\n",
      "Epoch 55/100\n",
      "20/20 [==============================] - 5s 257ms/sample - loss: 1.0817 - accuracy: 0.4000 - val_loss: 1.4739 - val_accuracy: 0.4000\n",
      "Epoch 56/100\n",
      "20/20 [==============================] - 5s 259ms/sample - loss: 1.0815 - accuracy: 0.4000 - val_loss: 1.4771 - val_accuracy: 0.4000\n"
     ]
    },
    {
     "name": "stdout",
     "output_type": "stream",
     "text": [
      "Epoch 57/100\n",
      "20/20 [==============================] - 5s 252ms/sample - loss: 1.0812 - accuracy: 0.4000 - val_loss: 1.4809 - val_accuracy: 0.4000\n",
      "Epoch 58/100\n",
      "20/20 [==============================] - 5s 263ms/sample - loss: 1.0810 - accuracy: 0.4000 - val_loss: 1.4852 - val_accuracy: 0.4000\n",
      "Epoch 59/100\n",
      "20/20 [==============================] - 5s 255ms/sample - loss: 1.0809 - accuracy: 0.4000 - val_loss: 1.4894 - val_accuracy: 0.4000\n",
      "Epoch 60/100\n",
      "20/20 [==============================] - 5s 256ms/sample - loss: 1.0809 - accuracy: 0.4000 - val_loss: 1.4931 - val_accuracy: 0.4000\n",
      "Epoch 61/100\n",
      "20/20 [==============================] - 5s 254ms/sample - loss: 1.0810 - accuracy: 0.4000 - val_loss: 1.4959 - val_accuracy: 0.4000\n",
      "Epoch 62/100\n",
      "20/20 [==============================] - 5s 257ms/sample - loss: 1.0811 - accuracy: 0.4000 - val_loss: 1.4974 - val_accuracy: 0.4000\n",
      "Epoch 63/100\n",
      "20/20 [==============================] - 5s 261ms/sample - loss: 1.0811 - accuracy: 0.4000 - val_loss: 1.4976 - val_accuracy: 0.4000\n",
      "Epoch 64/100\n",
      "20/20 [==============================] - 5s 259ms/sample - loss: 1.0811 - accuracy: 0.4000 - val_loss: 1.4969 - val_accuracy: 0.4000\n",
      "Epoch 65/100\n",
      "20/20 [==============================] - 5s 254ms/sample - loss: 1.0809 - accuracy: 0.4000 - val_loss: 1.4956 - val_accuracy: 0.4000\n",
      "Epoch 66/100\n",
      "20/20 [==============================] - 5s 256ms/sample - loss: 1.0807 - accuracy: 0.4000 - val_loss: 1.4942 - val_accuracy: 0.4000\n",
      "Epoch 67/100\n",
      "20/20 [==============================] - 5s 258ms/sample - loss: 1.0807 - accuracy: 0.4000 - val_loss: 1.4931 - val_accuracy: 0.4000\n",
      "Epoch 68/100\n",
      "20/20 [==============================] - 5s 266ms/sample - loss: 1.0807 - accuracy: 0.4000 - val_loss: 1.4926 - val_accuracy: 0.4000\n",
      "Epoch 69/100\n",
      "20/20 [==============================] - 5s 257ms/sample - loss: 1.0808 - accuracy: 0.4000 - val_loss: 1.4928 - val_accuracy: 0.4000\n",
      "Epoch 70/100\n",
      "20/20 [==============================] - 5s 253ms/sample - loss: 1.0809 - accuracy: 0.4000 - val_loss: 1.4936 - val_accuracy: 0.4000\n",
      "Epoch 71/100\n",
      "20/20 [==============================] - 5s 254ms/sample - loss: 1.0809 - accuracy: 0.4000 - val_loss: 1.4951 - val_accuracy: 0.4000\n",
      "Epoch 72/100\n",
      "20/20 [==============================] - 5s 252ms/sample - loss: 1.0808 - accuracy: 0.4000 - val_loss: 1.4970 - val_accuracy: 0.4000\n",
      "Epoch 73/100\n",
      "20/20 [==============================] - 5s 254ms/sample - loss: 1.0807 - accuracy: 0.4000 - val_loss: 1.4991 - val_accuracy: 0.4000\n",
      "Epoch 74/100\n",
      "20/20 [==============================] - 5s 259ms/sample - loss: 1.0806 - accuracy: 0.4000 - val_loss: 1.5012 - val_accuracy: 0.4000\n",
      "Epoch 75/100\n",
      "20/20 [==============================] - 5s 254ms/sample - loss: 1.0807 - accuracy: 0.4000 - val_loss: 1.5029 - val_accuracy: 0.4000\n",
      "Epoch 76/100\n",
      "20/20 [==============================] - 5s 263ms/sample - loss: 1.0807 - accuracy: 0.4000 - val_loss: 1.5041 - val_accuracy: 0.4000\n",
      "Epoch 77/100\n",
      "20/20 [==============================] - 5s 258ms/sample - loss: 1.0808 - accuracy: 0.4000 - val_loss: 1.5045 - val_accuracy: 0.4000\n",
      "Epoch 78/100\n",
      "20/20 [==============================] - 5s 258ms/sample - loss: 1.0808 - accuracy: 0.4000 - val_loss: 1.5044 - val_accuracy: 0.4000\n",
      "Epoch 79/100\n",
      "20/20 [==============================] - 5s 254ms/sample - loss: 1.0807 - accuracy: 0.4000 - val_loss: 1.5039 - val_accuracy: 0.4000\n",
      "Epoch 80/100\n",
      "20/20 [==============================] - 5s 255ms/sample - loss: 1.0807 - accuracy: 0.4000 - val_loss: 1.5032 - val_accuracy: 0.4000\n",
      "Epoch 81/100\n",
      "20/20 [==============================] - 5s 256ms/sample - loss: 1.0806 - accuracy: 0.4000 - val_loss: 1.5026 - val_accuracy: 0.4000\n",
      "Epoch 82/100\n",
      "20/20 [==============================] - 5s 259ms/sample - loss: 1.0806 - accuracy: 0.4000 - val_loss: 1.5022 - val_accuracy: 0.4000\n",
      "Epoch 83/100\n",
      "20/20 [==============================] - 5s 258ms/sample - loss: 1.0807 - accuracy: 0.4000 - val_loss: 1.5023 - val_accuracy: 0.4000\n",
      "Epoch 84/100\n",
      "20/20 [==============================] - 5s 252ms/sample - loss: 1.0807 - accuracy: 0.4000 - val_loss: 1.5027 - val_accuracy: 0.4000\n",
      "Epoch 85/100\n",
      "20/20 [==============================] - 5s 274ms/sample - loss: 1.0807 - accuracy: 0.4000 - val_loss: 1.5036 - val_accuracy: 0.4000\n",
      "Epoch 86/100\n",
      "20/20 [==============================] - 6s 280ms/sample - loss: 1.0807 - accuracy: 0.4000 - val_loss: 1.5046 - val_accuracy: 0.4000\n",
      "Epoch 87/100\n",
      "20/20 [==============================] - 6s 285ms/sample - loss: 1.0806 - accuracy: 0.4000 - val_loss: 1.5059 - val_accuracy: 0.4000\n",
      "Epoch 88/100\n",
      "20/20 [==============================] - 6s 309ms/sample - loss: 1.0806 - accuracy: 0.4000 - val_loss: 1.5070 - val_accuracy: 0.4000\n",
      "Epoch 89/100\n",
      "20/20 [==============================] - 6s 298ms/sample - loss: 1.0806 - accuracy: 0.4000 - val_loss: 1.5080 - val_accuracy: 0.4000\n",
      "Epoch 90/100\n",
      "20/20 [==============================] - 6s 299ms/sample - loss: 1.0806 - accuracy: 0.4000 - val_loss: 1.5087 - val_accuracy: 0.4000\n",
      "Epoch 91/100\n",
      "20/20 [==============================] - 6s 308ms/sample - loss: 1.0807 - accuracy: 0.4000 - val_loss: 1.5090 - val_accuracy: 0.4000\n",
      "Epoch 92/100\n",
      "20/20 [==============================] - 6s 294ms/sample - loss: 1.0806 - accuracy: 0.4000 - val_loss: 1.5091 - val_accuracy: 0.4000\n",
      "Epoch 93/100\n",
      "20/20 [==============================] - 6s 289ms/sample - loss: 1.0806 - accuracy: 0.4000 - val_loss: 1.5090 - val_accuracy: 0.4000\n",
      "Epoch 94/100\n",
      "20/20 [==============================] - 6s 298ms/sample - loss: 1.0806 - accuracy: 0.4000 - val_loss: 1.5088 - val_accuracy: 0.4000\n",
      "Epoch 95/100\n",
      "20/20 [==============================] - 6s 290ms/sample - loss: 1.0806 - accuracy: 0.4000 - val_loss: 1.5087 - val_accuracy: 0.4000\n",
      "Epoch 96/100\n",
      "20/20 [==============================] - 6s 288ms/sample - loss: 1.0806 - accuracy: 0.4000 - val_loss: 1.5087 - val_accuracy: 0.4000\n",
      "Epoch 97/100\n",
      "20/20 [==============================] - 6s 290ms/sample - loss: 1.0806 - accuracy: 0.4000 - val_loss: 1.5090 - val_accuracy: 0.4000\n",
      "Epoch 98/100\n",
      "20/20 [==============================] - 6s 286ms/sample - loss: 1.0806 - accuracy: 0.4000 - val_loss: 1.5095 - val_accuracy: 0.4000\n",
      "Epoch 99/100\n",
      "20/20 [==============================] - 6s 284ms/sample - loss: 1.0806 - accuracy: 0.4000 - val_loss: 1.5101 - val_accuracy: 0.4000\n",
      "Epoch 100/100\n",
      "20/20 [==============================] - 6s 287ms/sample - loss: 1.0806 - accuracy: 0.4000 - val_loss: 1.5109 - val_accuracy: 0.4000\n"
     ]
    },
    {
     "data": {
      "text/html": [
       "<span style=\"color:#4527A0\"><h1 style=\"font-size:18px\">Trial complete</h1></span>"
      ],
      "text/plain": [
       "<IPython.core.display.HTML object>"
      ]
     },
     "metadata": {},
     "output_type": "display_data"
    },
    {
     "data": {
      "text/html": [
       "<span style=\"color:#4527A0\"><h1 style=\"font-size:18px\">Trial summary</h1></span>"
      ],
      "text/plain": [
       "<IPython.core.display.HTML object>"
      ]
     },
     "metadata": {},
     "output_type": "display_data"
    },
    {
     "data": {
      "text/html": [
       "<span style=\"color:cyan\"> |-Trial ID: 436b1a89aeee14991ac1e4430baac06d</span>"
      ],
      "text/plain": [
       "<IPython.core.display.HTML object>"
      ]
     },
     "metadata": {},
     "output_type": "display_data"
    },
    {
     "data": {
      "text/html": [
       "<span style=\"color:cyan\"> |-Score: 0.4000000059604645</span>"
      ],
      "text/plain": [
       "<IPython.core.display.HTML object>"
      ]
     },
     "metadata": {},
     "output_type": "display_data"
    },
    {
     "data": {
      "text/html": [
       "<span style=\"color:cyan\"> |-Best step: 0</span>"
      ],
      "text/plain": [
       "<IPython.core.display.HTML object>"
      ]
     },
     "metadata": {},
     "output_type": "display_data"
    },
    {
     "data": {
      "text/html": [
       "<span style=\"color:#7E57C2\"><h2 style=\"font-size:16px\">Hyperparameters:</h2></span>"
      ],
      "text/plain": [
       "<IPython.core.display.HTML object>"
      ]
     },
     "metadata": {},
     "output_type": "display_data"
    },
    {
     "data": {
      "text/html": [
       "<span style=\"color:cyan\"> |-conv_1_filter: 48</span>"
      ],
      "text/plain": [
       "<IPython.core.display.HTML object>"
      ]
     },
     "metadata": {},
     "output_type": "display_data"
    },
    {
     "data": {
      "text/html": [
       "<span style=\"color:blue\"> |-conv_1_kernel: 5</span>"
      ],
      "text/plain": [
       "<IPython.core.display.HTML object>"
      ]
     },
     "metadata": {},
     "output_type": "display_data"
    },
    {
     "data": {
      "text/html": [
       "<span style=\"color:cyan\"> |-conv_2_filter: 32</span>"
      ],
      "text/plain": [
       "<IPython.core.display.HTML object>"
      ]
     },
     "metadata": {},
     "output_type": "display_data"
    },
    {
     "data": {
      "text/html": [
       "<span style=\"color:blue\"> |-conv_2_kernel: 3</span>"
      ],
      "text/plain": [
       "<IPython.core.display.HTML object>"
      ]
     },
     "metadata": {},
     "output_type": "display_data"
    },
    {
     "data": {
      "text/html": [
       "<span style=\"color:cyan\"> |-conv_3_filter: 32</span>"
      ],
      "text/plain": [
       "<IPython.core.display.HTML object>"
      ]
     },
     "metadata": {},
     "output_type": "display_data"
    },
    {
     "data": {
      "text/html": [
       "<span style=\"color:blue\"> |-conv_3_kernel: 5</span>"
      ],
      "text/plain": [
       "<IPython.core.display.HTML object>"
      ]
     },
     "metadata": {},
     "output_type": "display_data"
    },
    {
     "data": {
      "text/html": [
       "<span style=\"color:cyan\"> |-dense_1_units: 112</span>"
      ],
      "text/plain": [
       "<IPython.core.display.HTML object>"
      ]
     },
     "metadata": {},
     "output_type": "display_data"
    },
    {
     "data": {
      "text/html": [
       "<span style=\"color:blue\"> |-dense_2_units: 112</span>"
      ],
      "text/plain": [
       "<IPython.core.display.HTML object>"
      ]
     },
     "metadata": {},
     "output_type": "display_data"
    },
    {
     "data": {
      "text/html": [
       "<span style=\"color:cyan\"> |-learning_rate: 0.01</span>"
      ],
      "text/plain": [
       "<IPython.core.display.HTML object>"
      ]
     },
     "metadata": {},
     "output_type": "display_data"
    },
    {
     "name": "stdout",
     "output_type": "stream",
     "text": [
      "Train on 20 samples, validate on 20 samples\n",
      "Epoch 1/100\n"
     ]
    }
   ],
   "source": [
    "tuner_search.search(X_train,y_train,epochs=100, validation_data=(X_test, y_test))"
   ]
  },
  {
   "cell_type": "code",
   "execution_count": 16,
   "metadata": {},
   "outputs": [],
   "source": [
    "model=tuner_search.get_best_models(num_models=1)[0]"
   ]
  },
  {
   "cell_type": "code",
   "execution_count": 26,
   "metadata": {},
   "outputs": [
    {
     "name": "stdout",
     "output_type": "stream",
     "text": [
      "Model: \"sequential\"\n",
      "_________________________________________________________________\n",
      "Layer (type)                 Output Shape              Param #   \n",
      "=================================================================\n",
      "conv2d (Conv2D)              (None, 148, 148, 32)      896       \n",
      "_________________________________________________________________\n",
      "conv2d_1 (Conv2D)            (None, 144, 144, 48)      38448     \n",
      "_________________________________________________________________\n",
      "conv2d_2 (Conv2D)            (None, 142, 142, 64)      27712     \n",
      "_________________________________________________________________\n",
      "flatten (Flatten)            (None, 1290496)           0         \n",
      "_________________________________________________________________\n",
      "dense (Dense)                (None, 96)                123887712 \n",
      "_________________________________________________________________\n",
      "dense_1 (Dense)              (None, 112)               10864     \n",
      "_________________________________________________________________\n",
      "dense_2 (Dense)              (None, 3)                 339       \n",
      "=================================================================\n",
      "Total params: 123,965,971\n",
      "Trainable params: 123,965,971\n",
      "Non-trainable params: 0\n",
      "_________________________________________________________________\n"
     ]
    }
   ],
   "source": [
    "model.summary()"
   ]
  },
  {
   "cell_type": "code",
   "execution_count": null,
   "metadata": {},
   "outputs": [],
   "source": []
  }
 ],
 "metadata": {
  "kernelspec": {
   "display_name": "Python 3",
   "language": "python",
   "name": "python3"
  },
  "language_info": {
   "codemirror_mode": {
    "name": "ipython",
    "version": 3
   },
   "file_extension": ".py",
   "mimetype": "text/x-python",
   "name": "python",
   "nbconvert_exporter": "python",
   "pygments_lexer": "ipython3",
   "version": "3.6.10"
  }
 },
 "nbformat": 4,
 "nbformat_minor": 4
}
